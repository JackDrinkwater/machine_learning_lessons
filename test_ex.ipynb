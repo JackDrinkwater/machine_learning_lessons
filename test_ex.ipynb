{
 "cells": [
  {
   "cell_type": "code",
   "execution_count": 1,
   "metadata": {},
   "outputs": [],
   "source": [
    "import numpy as np\n",
    "import pandas as pd\n",
    "import matplotlib.pyplot as plt\n",
    "from pylab import rcParams\n",
    "import seaborn as sns\n",
    "import datetime"
   ]
  },
  {
   "cell_type": "code",
   "execution_count": 2,
   "metadata": {},
   "outputs": [],
   "source": [
    "rcParams['figure.figsize'] = (15, 10)\n",
    "plt.rcParams['legend.fontsize'] = 10\n",
    "plt.rcParams['axes.labelsize'] = 15\n",
    "plt.rcParams['axes.titlesize'] = 20"
   ]
  },
  {
   "cell_type": "markdown",
   "metadata": {},
   "source": [
    "## Exercise 1"
   ]
  },
  {
   "cell_type": "code",
   "execution_count": 3,
   "metadata": {},
   "outputs": [
    {
     "data": {
      "text/html": [
       "<div>\n",
       "<style scoped>\n",
       "    .dataframe tbody tr th:only-of-type {\n",
       "        vertical-align: middle;\n",
       "    }\n",
       "\n",
       "    .dataframe tbody tr th {\n",
       "        vertical-align: top;\n",
       "    }\n",
       "\n",
       "    .dataframe thead th {\n",
       "        text-align: right;\n",
       "    }\n",
       "</style>\n",
       "<table border=\"1\" class=\"dataframe\">\n",
       "  <thead>\n",
       "    <tr style=\"text-align: right;\">\n",
       "      <th></th>\n",
       "      <th>PlayerUid</th>\n",
       "      <th>Max AchievedStep</th>\n",
       "      <th>RefPlace</th>\n",
       "    </tr>\n",
       "  </thead>\n",
       "  <tbody>\n",
       "    <tr>\n",
       "      <th>0</th>\n",
       "      <td>754589776</td>\n",
       "      <td>1</td>\n",
       "      <td>Organic</td>\n",
       "    </tr>\n",
       "    <tr>\n",
       "      <th>1</th>\n",
       "      <td>754589626</td>\n",
       "      <td>8</td>\n",
       "      <td>Organic</td>\n",
       "    </tr>\n",
       "    <tr>\n",
       "      <th>2</th>\n",
       "      <td>754589354</td>\n",
       "      <td>8</td>\n",
       "      <td>Traffic</td>\n",
       "    </tr>\n",
       "    <tr>\n",
       "      <th>3</th>\n",
       "      <td>754589351</td>\n",
       "      <td>8</td>\n",
       "      <td>Organic</td>\n",
       "    </tr>\n",
       "    <tr>\n",
       "      <th>4</th>\n",
       "      <td>754589281</td>\n",
       "      <td>1</td>\n",
       "      <td>Organic</td>\n",
       "    </tr>\n",
       "    <tr>\n",
       "      <th>...</th>\n",
       "      <td>...</td>\n",
       "      <td>...</td>\n",
       "      <td>...</td>\n",
       "    </tr>\n",
       "    <tr>\n",
       "      <th>1187</th>\n",
       "      <td>754370502</td>\n",
       "      <td>0</td>\n",
       "      <td>Organic</td>\n",
       "    </tr>\n",
       "    <tr>\n",
       "      <th>1188</th>\n",
       "      <td>754370356</td>\n",
       "      <td>1</td>\n",
       "      <td>Traffic</td>\n",
       "    </tr>\n",
       "    <tr>\n",
       "      <th>1189</th>\n",
       "      <td>754370304</td>\n",
       "      <td>0</td>\n",
       "      <td>Organic</td>\n",
       "    </tr>\n",
       "    <tr>\n",
       "      <th>1190</th>\n",
       "      <td>750958760</td>\n",
       "      <td>0</td>\n",
       "      <td>Organic</td>\n",
       "    </tr>\n",
       "    <tr>\n",
       "      <th>1191</th>\n",
       "      <td>738701464</td>\n",
       "      <td>1</td>\n",
       "      <td>Traffic</td>\n",
       "    </tr>\n",
       "  </tbody>\n",
       "</table>\n",
       "<p>1192 rows × 3 columns</p>\n",
       "</div>"
      ],
      "text/plain": [
       "      PlayerUid  Max AchievedStep RefPlace\n",
       "0     754589776                 1  Organic\n",
       "1     754589626                 8  Organic\n",
       "2     754589354                 8  Traffic\n",
       "3     754589351                 8  Organic\n",
       "4     754589281                 1  Organic\n",
       "...         ...               ...      ...\n",
       "1187  754370502                 0  Organic\n",
       "1188  754370356                 1  Traffic\n",
       "1189  754370304                 0  Organic\n",
       "1190  750958760                 0  Organic\n",
       "1191  738701464                 1  Traffic\n",
       "\n",
       "[1192 rows x 3 columns]"
      ]
     },
     "execution_count": 3,
     "metadata": {},
     "output_type": "execute_result"
    }
   ],
   "source": [
    "page_1 = pd.read_excel('/Users/stanislav/Downloads/Trainee.xlsx', sheet_name='FirstEnter')\n",
    "page_1"
   ]
  },
  {
   "cell_type": "code",
   "execution_count": 4,
   "metadata": {},
   "outputs": [
    {
     "data": {
      "text/plain": [
       "1192"
      ]
     },
     "execution_count": 4,
     "metadata": {},
     "output_type": "execute_result"
    }
   ],
   "source": [
    "number_of_people = np.size(np.unique(page_1['PlayerUid'])) # check is there no accident repetition?\n",
    "number_of_people"
   ]
  },
  {
   "cell_type": "code",
   "execution_count": 5,
   "metadata": {},
   "outputs": [
    {
     "data": {
      "text/html": [
       "<div>\n",
       "<style scoped>\n",
       "    .dataframe tbody tr th:only-of-type {\n",
       "        vertical-align: middle;\n",
       "    }\n",
       "\n",
       "    .dataframe tbody tr th {\n",
       "        vertical-align: top;\n",
       "    }\n",
       "\n",
       "    .dataframe thead th {\n",
       "        text-align: right;\n",
       "    }\n",
       "</style>\n",
       "<table border=\"1\" class=\"dataframe\">\n",
       "  <thead>\n",
       "    <tr style=\"text-align: right;\">\n",
       "      <th></th>\n",
       "      <th>Fraction of people</th>\n",
       "      <th>Num of step</th>\n",
       "    </tr>\n",
       "  </thead>\n",
       "  <tbody>\n",
       "    <tr>\n",
       "      <th>0</th>\n",
       "      <td>22.567114</td>\n",
       "      <td>0</td>\n",
       "    </tr>\n",
       "    <tr>\n",
       "      <th>1</th>\n",
       "      <td>13.255034</td>\n",
       "      <td>1</td>\n",
       "    </tr>\n",
       "    <tr>\n",
       "      <th>2</th>\n",
       "      <td>2.348993</td>\n",
       "      <td>2</td>\n",
       "    </tr>\n",
       "    <tr>\n",
       "      <th>3</th>\n",
       "      <td>2.265101</td>\n",
       "      <td>3</td>\n",
       "    </tr>\n",
       "    <tr>\n",
       "      <th>4</th>\n",
       "      <td>2.348993</td>\n",
       "      <td>4</td>\n",
       "    </tr>\n",
       "    <tr>\n",
       "      <th>5</th>\n",
       "      <td>1.342282</td>\n",
       "      <td>5</td>\n",
       "    </tr>\n",
       "    <tr>\n",
       "      <th>6</th>\n",
       "      <td>7.550336</td>\n",
       "      <td>6</td>\n",
       "    </tr>\n",
       "    <tr>\n",
       "      <th>7</th>\n",
       "      <td>1.845638</td>\n",
       "      <td>7</td>\n",
       "    </tr>\n",
       "    <tr>\n",
       "      <th>8</th>\n",
       "      <td>46.476510</td>\n",
       "      <td>8</td>\n",
       "    </tr>\n",
       "  </tbody>\n",
       "</table>\n",
       "</div>"
      ],
      "text/plain": [
       "   Fraction of people  Num of step\n",
       "0           22.567114            0\n",
       "1           13.255034            1\n",
       "2            2.348993            2\n",
       "3            2.265101            3\n",
       "4            2.348993            4\n",
       "5            1.342282            5\n",
       "6            7.550336            6\n",
       "7            1.845638            7\n",
       "8           46.476510            8"
      ]
     },
     "execution_count": 5,
     "metadata": {},
     "output_type": "execute_result"
    }
   ],
   "source": [
    "data_for_graph = pd.DataFrame(page_1['Max AchievedStep'].value_counts().sort_index()) # creating table for graph\n",
    "data_for_graph['Num of step'] = range(0, 9)\n",
    "data_for_graph['Max AchievedStep'] = data_for_graph.apply(lambda x: (x['Max AchievedStep'] / number_of_people) * 100, axis=1)\n",
    "data_for_graph = data_for_graph.rename(columns={'Max AchievedStep' : 'Fraction of people'})\n",
    "data_for_graph"
   ]
  },
  {
   "cell_type": "code",
   "execution_count": 6,
   "metadata": {},
   "outputs": [
    {
     "data": {
      "image/png": "[encoded data removed]",
      "text/plain": [
       "<Figure size 1080x720 with 1 Axes>"
      ]
     },
     "metadata": {
      "needs_background": "light"
     },
     "output_type": "display_data"
    }
   ],
   "source": [
    "plt.bar(data_for_graph['Num of step'], data_for_graph['Fraction of people'], width=0.1, color='g')\n",
    "plt.xlabel('Tutorial step number')\n",
    "plt.ylabel('Amount of people, %')\n",
    "plt.title('How many people get a specific step of tutorial')\n",
    "plt.grid()\n",
    "plt.show()"
   ]
  },
  {
   "cell_type": "markdown",
   "metadata": {},
   "source": [
    "## Exercise 2"
   ]
  },
  {
   "cell_type": "code",
   "execution_count": 7,
   "metadata": {},
   "outputs": [],
   "source": [
    "page_2 = pd.read_excel('/Users/stanislav/Downloads/Trainee.xlsx', sheet_name='RetentionRate')"
   ]
  },
  {
   "cell_type": "code",
   "execution_count": 8,
   "metadata": {},
   "outputs": [
    {
     "data": {
      "text/html": [
       "<div>\n",
       "<style scoped>\n",
       "    .dataframe tbody tr th:only-of-type {\n",
       "        vertical-align: middle;\n",
       "    }\n",
       "\n",
       "    .dataframe tbody tr th {\n",
       "        vertical-align: top;\n",
       "    }\n",
       "\n",
       "    .dataframe thead th {\n",
       "        text-align: right;\n",
       "    }\n",
       "</style>\n",
       "<table border=\"1\" class=\"dataframe\">\n",
       "  <thead>\n",
       "    <tr style=\"text-align: right;\">\n",
       "      <th></th>\n",
       "      <th>PlayerUid</th>\n",
       "      <th>DateTime</th>\n",
       "      <th>Registered</th>\n",
       "    </tr>\n",
       "  </thead>\n",
       "  <tbody>\n",
       "    <tr>\n",
       "      <th>0</th>\n",
       "      <td>754371423</td>\n",
       "      <td>2019-03-10</td>\n",
       "      <td>2019-03-10</td>\n",
       "    </tr>\n",
       "    <tr>\n",
       "      <th>1</th>\n",
       "      <td>754371423</td>\n",
       "      <td>2019-03-11</td>\n",
       "      <td>2019-03-10</td>\n",
       "    </tr>\n",
       "    <tr>\n",
       "      <th>2</th>\n",
       "      <td>754371423</td>\n",
       "      <td>2019-03-10</td>\n",
       "      <td>2019-03-10</td>\n",
       "    </tr>\n",
       "    <tr>\n",
       "      <th>3</th>\n",
       "      <td>754371423</td>\n",
       "      <td>2019-03-10</td>\n",
       "      <td>2019-03-10</td>\n",
       "    </tr>\n",
       "    <tr>\n",
       "      <th>4</th>\n",
       "      <td>754371423</td>\n",
       "      <td>2019-03-10</td>\n",
       "      <td>2019-03-10</td>\n",
       "    </tr>\n",
       "    <tr>\n",
       "      <th>...</th>\n",
       "      <td>...</td>\n",
       "      <td>...</td>\n",
       "      <td>...</td>\n",
       "    </tr>\n",
       "    <tr>\n",
       "      <th>2830</th>\n",
       "      <td>754389536</td>\n",
       "      <td>2019-03-10</td>\n",
       "      <td>2019-03-10</td>\n",
       "    </tr>\n",
       "    <tr>\n",
       "      <th>2831</th>\n",
       "      <td>754404352</td>\n",
       "      <td>2019-03-10</td>\n",
       "      <td>2019-03-10</td>\n",
       "    </tr>\n",
       "    <tr>\n",
       "      <th>2832</th>\n",
       "      <td>754404613</td>\n",
       "      <td>2019-03-10</td>\n",
       "      <td>2019-03-10</td>\n",
       "    </tr>\n",
       "    <tr>\n",
       "      <th>2833</th>\n",
       "      <td>754521566</td>\n",
       "      <td>2019-03-11</td>\n",
       "      <td>2019-03-11</td>\n",
       "    </tr>\n",
       "    <tr>\n",
       "      <th>2834</th>\n",
       "      <td>754539589</td>\n",
       "      <td>2019-03-11</td>\n",
       "      <td>2019-03-11</td>\n",
       "    </tr>\n",
       "  </tbody>\n",
       "</table>\n",
       "<p>2835 rows × 3 columns</p>\n",
       "</div>"
      ],
      "text/plain": [
       "      PlayerUid   DateTime Registered\n",
       "0     754371423 2019-03-10 2019-03-10\n",
       "1     754371423 2019-03-11 2019-03-10\n",
       "2     754371423 2019-03-10 2019-03-10\n",
       "3     754371423 2019-03-10 2019-03-10\n",
       "4     754371423 2019-03-10 2019-03-10\n",
       "...         ...        ...        ...\n",
       "2830  754389536 2019-03-10 2019-03-10\n",
       "2831  754404352 2019-03-10 2019-03-10\n",
       "2832  754404613 2019-03-10 2019-03-10\n",
       "2833  754521566 2019-03-11 2019-03-11\n",
       "2834  754539589 2019-03-11 2019-03-11\n",
       "\n",
       "[2835 rows x 3 columns]"
      ]
     },
     "execution_count": 8,
     "metadata": {},
     "output_type": "execute_result"
    }
   ],
   "source": [
    "page_2"
   ]
  },
  {
   "cell_type": "code",
   "execution_count": 9,
   "metadata": {},
   "outputs": [
    {
     "name": "stdout",
     "output_type": "stream",
     "text": [
      "1192\n"
     ]
    }
   ],
   "source": [
    "print(np.size(page_2[\"PlayerUid\"].value_counts())) # check that number of registered players is 1192"
   ]
  },
  {
   "cell_type": "markdown",
   "metadata": {},
   "source": [
    "#### Let's count difference for every row between DateTime and Registered dates. Then I choose rows with only diffenerce 1, that is necessary for Retention Day 1. "
   ]
  },
  {
   "cell_type": "code",
   "execution_count": 10,
   "metadata": {},
   "outputs": [],
   "source": [
    "page_2[\"Difference\"] = (page_2[\"DateTime\"] - page_2[\"Registered\"])"
   ]
  },
  {
   "cell_type": "code",
   "execution_count": 11,
   "metadata": {},
   "outputs": [
    {
     "data": {
      "text/html": [
       "<div>\n",
       "<style scoped>\n",
       "    .dataframe tbody tr th:only-of-type {\n",
       "        vertical-align: middle;\n",
       "    }\n",
       "\n",
       "    .dataframe tbody tr th {\n",
       "        vertical-align: top;\n",
       "    }\n",
       "\n",
       "    .dataframe thead th {\n",
       "        text-align: right;\n",
       "    }\n",
       "</style>\n",
       "<table border=\"1\" class=\"dataframe\">\n",
       "  <thead>\n",
       "    <tr style=\"text-align: right;\">\n",
       "      <th></th>\n",
       "      <th>PlayerUid</th>\n",
       "      <th>DateTime</th>\n",
       "      <th>Registered</th>\n",
       "      <th>Difference</th>\n",
       "    </tr>\n",
       "  </thead>\n",
       "  <tbody>\n",
       "    <tr>\n",
       "      <th>0</th>\n",
       "      <td>754371423</td>\n",
       "      <td>2019-03-10</td>\n",
       "      <td>2019-03-10</td>\n",
       "      <td>0 days</td>\n",
       "    </tr>\n",
       "    <tr>\n",
       "      <th>1</th>\n",
       "      <td>754371423</td>\n",
       "      <td>2019-03-11</td>\n",
       "      <td>2019-03-10</td>\n",
       "      <td>1 days</td>\n",
       "    </tr>\n",
       "    <tr>\n",
       "      <th>2</th>\n",
       "      <td>754371423</td>\n",
       "      <td>2019-03-10</td>\n",
       "      <td>2019-03-10</td>\n",
       "      <td>0 days</td>\n",
       "    </tr>\n",
       "    <tr>\n",
       "      <th>3</th>\n",
       "      <td>754371423</td>\n",
       "      <td>2019-03-10</td>\n",
       "      <td>2019-03-10</td>\n",
       "      <td>0 days</td>\n",
       "    </tr>\n",
       "    <tr>\n",
       "      <th>4</th>\n",
       "      <td>754371423</td>\n",
       "      <td>2019-03-10</td>\n",
       "      <td>2019-03-10</td>\n",
       "      <td>0 days</td>\n",
       "    </tr>\n",
       "    <tr>\n",
       "      <th>...</th>\n",
       "      <td>...</td>\n",
       "      <td>...</td>\n",
       "      <td>...</td>\n",
       "      <td>...</td>\n",
       "    </tr>\n",
       "    <tr>\n",
       "      <th>2830</th>\n",
       "      <td>754389536</td>\n",
       "      <td>2019-03-10</td>\n",
       "      <td>2019-03-10</td>\n",
       "      <td>0 days</td>\n",
       "    </tr>\n",
       "    <tr>\n",
       "      <th>2831</th>\n",
       "      <td>754404352</td>\n",
       "      <td>2019-03-10</td>\n",
       "      <td>2019-03-10</td>\n",
       "      <td>0 days</td>\n",
       "    </tr>\n",
       "    <tr>\n",
       "      <th>2832</th>\n",
       "      <td>754404613</td>\n",
       "      <td>2019-03-10</td>\n",
       "      <td>2019-03-10</td>\n",
       "      <td>0 days</td>\n",
       "    </tr>\n",
       "    <tr>\n",
       "      <th>2833</th>\n",
       "      <td>754521566</td>\n",
       "      <td>2019-03-11</td>\n",
       "      <td>2019-03-11</td>\n",
       "      <td>0 days</td>\n",
       "    </tr>\n",
       "    <tr>\n",
       "      <th>2834</th>\n",
       "      <td>754539589</td>\n",
       "      <td>2019-03-11</td>\n",
       "      <td>2019-03-11</td>\n",
       "      <td>0 days</td>\n",
       "    </tr>\n",
       "  </tbody>\n",
       "</table>\n",
       "<p>2835 rows × 4 columns</p>\n",
       "</div>"
      ],
      "text/plain": [
       "      PlayerUid   DateTime Registered Difference\n",
       "0     754371423 2019-03-10 2019-03-10     0 days\n",
       "1     754371423 2019-03-11 2019-03-10     1 days\n",
       "2     754371423 2019-03-10 2019-03-10     0 days\n",
       "3     754371423 2019-03-10 2019-03-10     0 days\n",
       "4     754371423 2019-03-10 2019-03-10     0 days\n",
       "...         ...        ...        ...        ...\n",
       "2830  754389536 2019-03-10 2019-03-10     0 days\n",
       "2831  754404352 2019-03-10 2019-03-10     0 days\n",
       "2832  754404613 2019-03-10 2019-03-10     0 days\n",
       "2833  754521566 2019-03-11 2019-03-11     0 days\n",
       "2834  754539589 2019-03-11 2019-03-11     0 days\n",
       "\n",
       "[2835 rows x 4 columns]"
      ]
     },
     "execution_count": 11,
     "metadata": {},
     "output_type": "execute_result"
    }
   ],
   "source": [
    "page_2"
   ]
  },
  {
   "cell_type": "code",
   "execution_count": 12,
   "metadata": {},
   "outputs": [
    {
     "data": {
      "text/html": [
       "<div>\n",
       "<style scoped>\n",
       "    .dataframe tbody tr th:only-of-type {\n",
       "        vertical-align: middle;\n",
       "    }\n",
       "\n",
       "    .dataframe tbody tr th {\n",
       "        vertical-align: top;\n",
       "    }\n",
       "\n",
       "    .dataframe thead th {\n",
       "        text-align: right;\n",
       "    }\n",
       "</style>\n",
       "<table border=\"1\" class=\"dataframe\">\n",
       "  <thead>\n",
       "    <tr style=\"text-align: right;\">\n",
       "      <th></th>\n",
       "      <th>PlayerUid</th>\n",
       "      <th>DateTime</th>\n",
       "      <th>Registered</th>\n",
       "      <th>Difference</th>\n",
       "    </tr>\n",
       "  </thead>\n",
       "  <tbody>\n",
       "    <tr>\n",
       "      <th>1</th>\n",
       "      <td>754371423</td>\n",
       "      <td>2019-03-11</td>\n",
       "      <td>2019-03-10</td>\n",
       "      <td>1 days</td>\n",
       "    </tr>\n",
       "    <tr>\n",
       "      <th>9</th>\n",
       "      <td>754371423</td>\n",
       "      <td>2019-03-11</td>\n",
       "      <td>2019-03-10</td>\n",
       "      <td>1 days</td>\n",
       "    </tr>\n",
       "    <tr>\n",
       "      <th>25</th>\n",
       "      <td>754565019</td>\n",
       "      <td>2019-03-12</td>\n",
       "      <td>2019-03-11</td>\n",
       "      <td>1 days</td>\n",
       "    </tr>\n",
       "    <tr>\n",
       "      <th>27</th>\n",
       "      <td>754565019</td>\n",
       "      <td>2019-03-12</td>\n",
       "      <td>2019-03-11</td>\n",
       "      <td>1 days</td>\n",
       "    </tr>\n",
       "    <tr>\n",
       "      <th>48</th>\n",
       "      <td>754389624</td>\n",
       "      <td>2019-03-11</td>\n",
       "      <td>2019-03-10</td>\n",
       "      <td>1 days</td>\n",
       "    </tr>\n",
       "    <tr>\n",
       "      <th>...</th>\n",
       "      <td>...</td>\n",
       "      <td>...</td>\n",
       "      <td>...</td>\n",
       "      <td>...</td>\n",
       "    </tr>\n",
       "    <tr>\n",
       "      <th>2339</th>\n",
       "      <td>754482079</td>\n",
       "      <td>2019-03-11</td>\n",
       "      <td>2019-03-10</td>\n",
       "      <td>1 days</td>\n",
       "    </tr>\n",
       "    <tr>\n",
       "      <th>2340</th>\n",
       "      <td>754430409</td>\n",
       "      <td>2019-03-11</td>\n",
       "      <td>2019-03-10</td>\n",
       "      <td>1 days</td>\n",
       "    </tr>\n",
       "    <tr>\n",
       "      <th>2493</th>\n",
       "      <td>754524302</td>\n",
       "      <td>2019-03-12</td>\n",
       "      <td>2019-03-11</td>\n",
       "      <td>1 days</td>\n",
       "    </tr>\n",
       "    <tr>\n",
       "      <th>2523</th>\n",
       "      <td>754463442</td>\n",
       "      <td>2019-03-11</td>\n",
       "      <td>2019-03-10</td>\n",
       "      <td>1 days</td>\n",
       "    </tr>\n",
       "    <tr>\n",
       "      <th>2525</th>\n",
       "      <td>754463442</td>\n",
       "      <td>2019-03-11</td>\n",
       "      <td>2019-03-10</td>\n",
       "      <td>1 days</td>\n",
       "    </tr>\n",
       "  </tbody>\n",
       "</table>\n",
       "<p>236 rows × 4 columns</p>\n",
       "</div>"
      ],
      "text/plain": [
       "      PlayerUid   DateTime Registered Difference\n",
       "1     754371423 2019-03-11 2019-03-10     1 days\n",
       "9     754371423 2019-03-11 2019-03-10     1 days\n",
       "25    754565019 2019-03-12 2019-03-11     1 days\n",
       "27    754565019 2019-03-12 2019-03-11     1 days\n",
       "48    754389624 2019-03-11 2019-03-10     1 days\n",
       "...         ...        ...        ...        ...\n",
       "2339  754482079 2019-03-11 2019-03-10     1 days\n",
       "2340  754430409 2019-03-11 2019-03-10     1 days\n",
       "2493  754524302 2019-03-12 2019-03-11     1 days\n",
       "2523  754463442 2019-03-11 2019-03-10     1 days\n",
       "2525  754463442 2019-03-11 2019-03-10     1 days\n",
       "\n",
       "[236 rows x 4 columns]"
      ]
     },
     "execution_count": 12,
     "metadata": {},
     "output_type": "execute_result"
    }
   ],
   "source": [
    "page_2[page_2[\"Difference\"] == '1 days'] # choose rows only with 1 day difference"
   ]
  },
  {
   "cell_type": "code",
   "execution_count": 13,
   "metadata": {},
   "outputs": [
    {
     "name": "stdout",
     "output_type": "stream",
     "text": [
      "102\n"
     ]
    }
   ],
   "source": [
    "print(np.size(page_2[page_2[\"Difference\"] == '1 days'][\"PlayerUid\"].unique())) # remove same users"
   ]
  },
  {
   "cell_type": "markdown",
   "metadata": {},
   "source": [
    "#### 102 users come to game in 1 day after registration "
   ]
  },
  {
   "cell_type": "code",
   "execution_count": 14,
   "metadata": {},
   "outputs": [
    {
     "name": "stdout",
     "output_type": "stream",
     "text": [
      "Retention Day 1 is 8.557046979865772%\n"
     ]
    }
   ],
   "source": [
    "retention_rate = 102 / number_of_people * 100\n",
    "print('Retention Day 1 is {0}%'.format(retention_rate))"
   ]
  }
 ],
 "metadata": {
  "kernelspec": {
   "display_name": "Python 3",
   "language": "python",
   "name": "python3"
  },
  "language_info": {
   "codemirror_mode": {
    "name": "ipython",
    "version": 3
   },
   "file_extension": ".py",
   "mimetype": "text/x-python",
   "name": "python",
   "nbconvert_exporter": "python",
   "pygments_lexer": "ipython3",
   "version": "3.7.6"
  }
 },
 "nbformat": 4,
 "nbformat_minor": 4
}
