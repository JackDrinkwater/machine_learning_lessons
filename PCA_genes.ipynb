{
 "cells": [
  {
   "cell_type": "code",
   "execution_count": 1,
   "metadata": {},
   "outputs": [],
   "source": [
    "import numpy as np\n",
    "import pandas as pd\n",
    "import random as rd\n",
    "from sklearn.decomposition import PCA\n",
    "from sklearn import preprocessing\n",
    "import matplotlib.pyplot as plt"
   ]
  },
  {
   "cell_type": "code",
   "execution_count": 2,
   "metadata": {},
   "outputs": [
    {
     "data": {
      "text/plain": [
       "['gene1', 'gene2', 'gene3', 'gene4', 'gene5']"
      ]
     },
     "execution_count": 2,
     "metadata": {},
     "output_type": "execute_result"
    }
   ],
   "source": [
    "genes = ['gene' + str(i) for i in range(1,101)]\n",
    "genes[0:5]"
   ]
  },
  {
   "cell_type": "code",
   "execution_count": 3,
   "metadata": {},
   "outputs": [
    {
     "data": {
      "text/plain": [
       "(['wt1', 'wt2', 'wt3', 'wt4', 'wt5'], ['ko1', 'ko2', 'ko3', 'ko4', 'ko5'])"
      ]
     },
     "execution_count": 3,
     "metadata": {},
     "output_type": "execute_result"
    }
   ],
   "source": [
    "wt = ['wt' + str(i) for i in range(1,6)]\n",
    "ko = ['ko' + str(i) for i in range(1,6)]\n",
    "wt, ko"
   ]
  },
  {
   "cell_type": "code",
   "execution_count": 4,
   "metadata": {},
   "outputs": [
    {
     "data": {
      "text/html": [
       "<div>\n",
       "<style scoped>\n",
       "    .dataframe tbody tr th:only-of-type {\n",
       "        vertical-align: middle;\n",
       "    }\n",
       "\n",
       "    .dataframe tbody tr th {\n",
       "        vertical-align: top;\n",
       "    }\n",
       "\n",
       "    .dataframe thead th {\n",
       "        text-align: right;\n",
       "    }\n",
       "</style>\n",
       "<table border=\"1\" class=\"dataframe\">\n",
       "  <thead>\n",
       "    <tr style=\"text-align: right;\">\n",
       "      <th></th>\n",
       "      <th>wt1</th>\n",
       "      <th>wt2</th>\n",
       "      <th>wt3</th>\n",
       "      <th>wt4</th>\n",
       "      <th>wt5</th>\n",
       "      <th>ko1</th>\n",
       "      <th>ko2</th>\n",
       "      <th>ko3</th>\n",
       "      <th>ko4</th>\n",
       "      <th>ko5</th>\n",
       "    </tr>\n",
       "  </thead>\n",
       "  <tbody>\n",
       "    <tr>\n",
       "      <th>gene1</th>\n",
       "      <td>NaN</td>\n",
       "      <td>NaN</td>\n",
       "      <td>NaN</td>\n",
       "      <td>NaN</td>\n",
       "      <td>NaN</td>\n",
       "      <td>NaN</td>\n",
       "      <td>NaN</td>\n",
       "      <td>NaN</td>\n",
       "      <td>NaN</td>\n",
       "      <td>NaN</td>\n",
       "    </tr>\n",
       "    <tr>\n",
       "      <th>gene2</th>\n",
       "      <td>NaN</td>\n",
       "      <td>NaN</td>\n",
       "      <td>NaN</td>\n",
       "      <td>NaN</td>\n",
       "      <td>NaN</td>\n",
       "      <td>NaN</td>\n",
       "      <td>NaN</td>\n",
       "      <td>NaN</td>\n",
       "      <td>NaN</td>\n",
       "      <td>NaN</td>\n",
       "    </tr>\n",
       "    <tr>\n",
       "      <th>gene3</th>\n",
       "      <td>NaN</td>\n",
       "      <td>NaN</td>\n",
       "      <td>NaN</td>\n",
       "      <td>NaN</td>\n",
       "      <td>NaN</td>\n",
       "      <td>NaN</td>\n",
       "      <td>NaN</td>\n",
       "      <td>NaN</td>\n",
       "      <td>NaN</td>\n",
       "      <td>NaN</td>\n",
       "    </tr>\n",
       "    <tr>\n",
       "      <th>gene4</th>\n",
       "      <td>NaN</td>\n",
       "      <td>NaN</td>\n",
       "      <td>NaN</td>\n",
       "      <td>NaN</td>\n",
       "      <td>NaN</td>\n",
       "      <td>NaN</td>\n",
       "      <td>NaN</td>\n",
       "      <td>NaN</td>\n",
       "      <td>NaN</td>\n",
       "      <td>NaN</td>\n",
       "    </tr>\n",
       "    <tr>\n",
       "      <th>gene5</th>\n",
       "      <td>NaN</td>\n",
       "      <td>NaN</td>\n",
       "      <td>NaN</td>\n",
       "      <td>NaN</td>\n",
       "      <td>NaN</td>\n",
       "      <td>NaN</td>\n",
       "      <td>NaN</td>\n",
       "      <td>NaN</td>\n",
       "      <td>NaN</td>\n",
       "      <td>NaN</td>\n",
       "    </tr>\n",
       "    <tr>\n",
       "      <th>...</th>\n",
       "      <td>...</td>\n",
       "      <td>...</td>\n",
       "      <td>...</td>\n",
       "      <td>...</td>\n",
       "      <td>...</td>\n",
       "      <td>...</td>\n",
       "      <td>...</td>\n",
       "      <td>...</td>\n",
       "      <td>...</td>\n",
       "      <td>...</td>\n",
       "    </tr>\n",
       "    <tr>\n",
       "      <th>gene96</th>\n",
       "      <td>NaN</td>\n",
       "      <td>NaN</td>\n",
       "      <td>NaN</td>\n",
       "      <td>NaN</td>\n",
       "      <td>NaN</td>\n",
       "      <td>NaN</td>\n",
       "      <td>NaN</td>\n",
       "      <td>NaN</td>\n",
       "      <td>NaN</td>\n",
       "      <td>NaN</td>\n",
       "    </tr>\n",
       "    <tr>\n",
       "      <th>gene97</th>\n",
       "      <td>NaN</td>\n",
       "      <td>NaN</td>\n",
       "      <td>NaN</td>\n",
       "      <td>NaN</td>\n",
       "      <td>NaN</td>\n",
       "      <td>NaN</td>\n",
       "      <td>NaN</td>\n",
       "      <td>NaN</td>\n",
       "      <td>NaN</td>\n",
       "      <td>NaN</td>\n",
       "    </tr>\n",
       "    <tr>\n",
       "      <th>gene98</th>\n",
       "      <td>NaN</td>\n",
       "      <td>NaN</td>\n",
       "      <td>NaN</td>\n",
       "      <td>NaN</td>\n",
       "      <td>NaN</td>\n",
       "      <td>NaN</td>\n",
       "      <td>NaN</td>\n",
       "      <td>NaN</td>\n",
       "      <td>NaN</td>\n",
       "      <td>NaN</td>\n",
       "    </tr>\n",
       "    <tr>\n",
       "      <th>gene99</th>\n",
       "      <td>NaN</td>\n",
       "      <td>NaN</td>\n",
       "      <td>NaN</td>\n",
       "      <td>NaN</td>\n",
       "      <td>NaN</td>\n",
       "      <td>NaN</td>\n",
       "      <td>NaN</td>\n",
       "      <td>NaN</td>\n",
       "      <td>NaN</td>\n",
       "      <td>NaN</td>\n",
       "    </tr>\n",
       "    <tr>\n",
       "      <th>gene100</th>\n",
       "      <td>NaN</td>\n",
       "      <td>NaN</td>\n",
       "      <td>NaN</td>\n",
       "      <td>NaN</td>\n",
       "      <td>NaN</td>\n",
       "      <td>NaN</td>\n",
       "      <td>NaN</td>\n",
       "      <td>NaN</td>\n",
       "      <td>NaN</td>\n",
       "      <td>NaN</td>\n",
       "    </tr>\n",
       "  </tbody>\n",
       "</table>\n",
       "<p>100 rows × 10 columns</p>\n",
       "</div>"
      ],
      "text/plain": [
       "         wt1  wt2  wt3  wt4  wt5  ko1  ko2  ko3  ko4  ko5\n",
       "gene1    NaN  NaN  NaN  NaN  NaN  NaN  NaN  NaN  NaN  NaN\n",
       "gene2    NaN  NaN  NaN  NaN  NaN  NaN  NaN  NaN  NaN  NaN\n",
       "gene3    NaN  NaN  NaN  NaN  NaN  NaN  NaN  NaN  NaN  NaN\n",
       "gene4    NaN  NaN  NaN  NaN  NaN  NaN  NaN  NaN  NaN  NaN\n",
       "gene5    NaN  NaN  NaN  NaN  NaN  NaN  NaN  NaN  NaN  NaN\n",
       "...      ...  ...  ...  ...  ...  ...  ...  ...  ...  ...\n",
       "gene96   NaN  NaN  NaN  NaN  NaN  NaN  NaN  NaN  NaN  NaN\n",
       "gene97   NaN  NaN  NaN  NaN  NaN  NaN  NaN  NaN  NaN  NaN\n",
       "gene98   NaN  NaN  NaN  NaN  NaN  NaN  NaN  NaN  NaN  NaN\n",
       "gene99   NaN  NaN  NaN  NaN  NaN  NaN  NaN  NaN  NaN  NaN\n",
       "gene100  NaN  NaN  NaN  NaN  NaN  NaN  NaN  NaN  NaN  NaN\n",
       "\n",
       "[100 rows x 10 columns]"
      ]
     },
     "execution_count": 4,
     "metadata": {},
     "output_type": "execute_result"
    }
   ],
   "source": [
    "# the \"stars\" unpack the \"wt\" and \"ko\" arrays so that \n",
    "# the columns names are a single array that looks like this:\n",
    "# [wt1, ..., wtn, ko1, ..., kon]\n",
    "\n",
    "data = pd.DataFrame(columns=[*wt, *ko], index=genes)\n",
    "data\n",
    "\n",
    "# without the \"starts\", it would be the an array of two arrays\n",
    "# and that wouldn't create 12 columns like we want"
   ]
  },
  {
   "cell_type": "code",
   "execution_count": 5,
   "metadata": {},
   "outputs": [],
   "source": [
    "for gene in   data.index:\n",
    "    data.loc[gene, 'wt1':'wt5'] = np.random.poisson(lam=rd.randrange(10,1000), size=5)\n",
    "    data.loc[gene, 'ko1':'ko5'] = np.random.poisson(lam=rd.randrange(10,1000), size=5)"
   ]
  },
  {
   "cell_type": "code",
   "execution_count": 6,
   "metadata": {},
   "outputs": [
    {
     "data": {
      "text/html": [
       "<div>\n",
       "<style scoped>\n",
       "    .dataframe tbody tr th:only-of-type {\n",
       "        vertical-align: middle;\n",
       "    }\n",
       "\n",
       "    .dataframe tbody tr th {\n",
       "        vertical-align: top;\n",
       "    }\n",
       "\n",
       "    .dataframe thead th {\n",
       "        text-align: right;\n",
       "    }\n",
       "</style>\n",
       "<table border=\"1\" class=\"dataframe\">\n",
       "  <thead>\n",
       "    <tr style=\"text-align: right;\">\n",
       "      <th></th>\n",
       "      <th>wt1</th>\n",
       "      <th>wt2</th>\n",
       "      <th>wt3</th>\n",
       "      <th>wt4</th>\n",
       "      <th>wt5</th>\n",
       "      <th>ko1</th>\n",
       "      <th>ko2</th>\n",
       "      <th>ko3</th>\n",
       "      <th>ko4</th>\n",
       "      <th>ko5</th>\n",
       "    </tr>\n",
       "  </thead>\n",
       "  <tbody>\n",
       "    <tr>\n",
       "      <th>gene1</th>\n",
       "      <td>790</td>\n",
       "      <td>863</td>\n",
       "      <td>843</td>\n",
       "      <td>806</td>\n",
       "      <td>799</td>\n",
       "      <td>645</td>\n",
       "      <td>609</td>\n",
       "      <td>602</td>\n",
       "      <td>594</td>\n",
       "      <td>647</td>\n",
       "    </tr>\n",
       "    <tr>\n",
       "      <th>gene2</th>\n",
       "      <td>865</td>\n",
       "      <td>872</td>\n",
       "      <td>879</td>\n",
       "      <td>887</td>\n",
       "      <td>898</td>\n",
       "      <td>586</td>\n",
       "      <td>539</td>\n",
       "      <td>599</td>\n",
       "      <td>557</td>\n",
       "      <td>524</td>\n",
       "    </tr>\n",
       "    <tr>\n",
       "      <th>gene3</th>\n",
       "      <td>195</td>\n",
       "      <td>190</td>\n",
       "      <td>179</td>\n",
       "      <td>194</td>\n",
       "      <td>237</td>\n",
       "      <td>297</td>\n",
       "      <td>277</td>\n",
       "      <td>324</td>\n",
       "      <td>307</td>\n",
       "      <td>319</td>\n",
       "    </tr>\n",
       "    <tr>\n",
       "      <th>gene4</th>\n",
       "      <td>101</td>\n",
       "      <td>101</td>\n",
       "      <td>107</td>\n",
       "      <td>105</td>\n",
       "      <td>140</td>\n",
       "      <td>17</td>\n",
       "      <td>11</td>\n",
       "      <td>20</td>\n",
       "      <td>16</td>\n",
       "      <td>18</td>\n",
       "    </tr>\n",
       "    <tr>\n",
       "      <th>gene5</th>\n",
       "      <td>864</td>\n",
       "      <td>899</td>\n",
       "      <td>952</td>\n",
       "      <td>885</td>\n",
       "      <td>870</td>\n",
       "      <td>748</td>\n",
       "      <td>742</td>\n",
       "      <td>799</td>\n",
       "      <td>804</td>\n",
       "      <td>768</td>\n",
       "    </tr>\n",
       "    <tr>\n",
       "      <th>...</th>\n",
       "      <td>...</td>\n",
       "      <td>...</td>\n",
       "      <td>...</td>\n",
       "      <td>...</td>\n",
       "      <td>...</td>\n",
       "      <td>...</td>\n",
       "      <td>...</td>\n",
       "      <td>...</td>\n",
       "      <td>...</td>\n",
       "      <td>...</td>\n",
       "    </tr>\n",
       "    <tr>\n",
       "      <th>gene96</th>\n",
       "      <td>528</td>\n",
       "      <td>503</td>\n",
       "      <td>544</td>\n",
       "      <td>542</td>\n",
       "      <td>490</td>\n",
       "      <td>90</td>\n",
       "      <td>97</td>\n",
       "      <td>109</td>\n",
       "      <td>115</td>\n",
       "      <td>106</td>\n",
       "    </tr>\n",
       "    <tr>\n",
       "      <th>gene97</th>\n",
       "      <td>230</td>\n",
       "      <td>241</td>\n",
       "      <td>212</td>\n",
       "      <td>221</td>\n",
       "      <td>217</td>\n",
       "      <td>800</td>\n",
       "      <td>856</td>\n",
       "      <td>799</td>\n",
       "      <td>902</td>\n",
       "      <td>868</td>\n",
       "    </tr>\n",
       "    <tr>\n",
       "      <th>gene98</th>\n",
       "      <td>357</td>\n",
       "      <td>363</td>\n",
       "      <td>376</td>\n",
       "      <td>357</td>\n",
       "      <td>317</td>\n",
       "      <td>329</td>\n",
       "      <td>367</td>\n",
       "      <td>345</td>\n",
       "      <td>325</td>\n",
       "      <td>329</td>\n",
       "    </tr>\n",
       "    <tr>\n",
       "      <th>gene99</th>\n",
       "      <td>701</td>\n",
       "      <td>648</td>\n",
       "      <td>731</td>\n",
       "      <td>693</td>\n",
       "      <td>666</td>\n",
       "      <td>615</td>\n",
       "      <td>604</td>\n",
       "      <td>580</td>\n",
       "      <td>571</td>\n",
       "      <td>559</td>\n",
       "    </tr>\n",
       "    <tr>\n",
       "      <th>gene100</th>\n",
       "      <td>248</td>\n",
       "      <td>266</td>\n",
       "      <td>269</td>\n",
       "      <td>255</td>\n",
       "      <td>254</td>\n",
       "      <td>115</td>\n",
       "      <td>131</td>\n",
       "      <td>141</td>\n",
       "      <td>124</td>\n",
       "      <td>128</td>\n",
       "    </tr>\n",
       "  </tbody>\n",
       "</table>\n",
       "<p>100 rows × 10 columns</p>\n",
       "</div>"
      ],
      "text/plain": [
       "         wt1  wt2  wt3  wt4  wt5  ko1  ko2  ko3  ko4  ko5\n",
       "gene1    790  863  843  806  799  645  609  602  594  647\n",
       "gene2    865  872  879  887  898  586  539  599  557  524\n",
       "gene3    195  190  179  194  237  297  277  324  307  319\n",
       "gene4    101  101  107  105  140   17   11   20   16   18\n",
       "gene5    864  899  952  885  870  748  742  799  804  768\n",
       "...      ...  ...  ...  ...  ...  ...  ...  ...  ...  ...\n",
       "gene96   528  503  544  542  490   90   97  109  115  106\n",
       "gene97   230  241  212  221  217  800  856  799  902  868\n",
       "gene98   357  363  376  357  317  329  367  345  325  329\n",
       "gene99   701  648  731  693  666  615  604  580  571  559\n",
       "gene100  248  266  269  255  254  115  131  141  124  128\n",
       "\n",
       "[100 rows x 10 columns]"
      ]
     },
     "execution_count": 6,
     "metadata": {},
     "output_type": "execute_result"
    }
   ],
   "source": [
    "# genomic data is often stored like follow way: \n",
    "# samples are vertically and columns are horizontally\n",
    "# so genes are features and wt and ko are samples\n",
    "data"
   ]
  },
  {
   "cell_type": "code",
   "execution_count": 7,
   "metadata": {},
   "outputs": [],
   "source": [
    "scaled_data = preprocessing.scale(data.T)\n",
    "#scaled_data"
   ]
  },
  {
   "cell_type": "code",
   "execution_count": 8,
   "metadata": {},
   "outputs": [],
   "source": [
    "scaled_data_ = preprocessing.StandardScaler().fit_transform(data.T)\n",
    "#scaled_data_"
   ]
  },
  {
   "attachments": {
    "%D0%A1%D0%BD%D0%B8%D0%BC%D0%BE%D0%BA%20%D1%8D%D0%BA%D1%80%D0%B0%D0%BD%D0%B0%202020-04-16%20%D0%B2%2015.25.55.png": {
     "image/png": "[encoded data removed]"
    }
   },
   "cell_type": "markdown",
   "metadata": {},
   "source": [
    "![%D0%A1%D0%BD%D0%B8%D0%BC%D0%BE%D0%BA%20%D1%8D%D0%BA%D1%80%D0%B0%D0%BD%D0%B0%202020-04-16%20%D0%B2%2015.25.55.png](attachment:%D0%A1%D0%BD%D0%B8%D0%BC%D0%BE%D0%BA%20%D1%8D%D0%BA%D1%80%D0%B0%D0%BD%D0%B0%202020-04-16%20%D0%B2%2015.25.55.png)"
   ]
  },
  {
   "cell_type": "code",
   "execution_count": 9,
   "metadata": {},
   "outputs": [],
   "source": [
    "pca = PCA()\n",
    "pca.fit(scaled_data)\n",
    "pca_data = pca.transform(scaled_data)\n",
    "#pca_data"
   ]
  },
  {
   "cell_type": "code",
   "execution_count": 10,
   "metadata": {},
   "outputs": [
    {
     "data": {
      "text/plain": [
       "array([8.45947272e-01, 3.85769556e-02, 3.12783178e-02, 2.05374371e-02,\n",
       "       1.84522348e-02, 1.55827740e-02, 1.25857283e-02, 1.15951131e-02,\n",
       "       5.44416737e-03, 5.42518074e-33])"
      ]
     },
     "execution_count": 10,
     "metadata": {},
     "output_type": "execute_result"
    }
   ],
   "source": [
    "# a scree plot to see how many principal components should go\n",
    "# into the final plot\n",
    "pca.explained_variance_ratio_"
   ]
  },
  {
   "cell_type": "code",
   "execution_count": 11,
   "metadata": {},
   "outputs": [
    {
     "data": {
      "text/plain": [
       "array([84.6,  3.9,  3.1,  2.1,  1.8,  1.6,  1.3,  1.2,  0.5,  0. ])"
      ]
     },
     "execution_count": 11,
     "metadata": {},
     "output_type": "execute_result"
    }
   ],
   "source": [
    "# the first thing we do is calculate the percentage of variation\n",
    "# that each principal component accounts for\n",
    "per_var = np.round(pca.explained_variance_ratio_ * 100, decimals=1)\n",
    "per_var"
   ]
  },
  {
   "cell_type": "code",
   "execution_count": 12,
   "metadata": {},
   "outputs": [],
   "source": [
    "# now we create labels for the scree plot\n",
    "labels = ['PC' + str(x) for x in range(1, len(per_var)+1)]"
   ]
  },
  {
   "cell_type": "code",
   "execution_count": 13,
   "metadata": {},
   "outputs": [
    {
     "data": {
      "image/png": "[encoded data removed]",
      "text/plain": [
       "<Figure size 432x288 with 1 Axes>"
      ]
     },
     "metadata": {
      "needs_background": "light"
     },
     "output_type": "display_data"
    }
   ],
   "source": [
    "plt.bar(x=range(1, len(per_var)+1), height=per_var, tick_label=labels)\n",
    "plt.ylabel('Percentage of Explained Variance')\n",
    "plt.xlabel('Principal Component')\n",
    "plt.title('Scree plot')\n",
    "plt.show()"
   ]
  },
  {
   "cell_type": "code",
   "execution_count": 14,
   "metadata": {},
   "outputs": [
    {
     "data": {
      "text/html": [
       "<div>\n",
       "<style scoped>\n",
       "    .dataframe tbody tr th:only-of-type {\n",
       "        vertical-align: middle;\n",
       "    }\n",
       "\n",
       "    .dataframe tbody tr th {\n",
       "        vertical-align: top;\n",
       "    }\n",
       "\n",
       "    .dataframe thead th {\n",
       "        text-align: right;\n",
       "    }\n",
       "</style>\n",
       "<table border=\"1\" class=\"dataframe\">\n",
       "  <thead>\n",
       "    <tr style=\"text-align: right;\">\n",
       "      <th></th>\n",
       "      <th>PC1</th>\n",
       "      <th>PC2</th>\n",
       "      <th>PC3</th>\n",
       "      <th>PC4</th>\n",
       "      <th>PC5</th>\n",
       "      <th>PC6</th>\n",
       "      <th>PC7</th>\n",
       "      <th>PC8</th>\n",
       "      <th>PC9</th>\n",
       "      <th>PC10</th>\n",
       "    </tr>\n",
       "  </thead>\n",
       "  <tbody>\n",
       "    <tr>\n",
       "      <th>wt1</th>\n",
       "      <td>9.317770</td>\n",
       "      <td>-1.715094</td>\n",
       "      <td>-1.476857</td>\n",
       "      <td>0.608915</td>\n",
       "      <td>1.191538</td>\n",
       "      <td>1.102418</td>\n",
       "      <td>1.771316</td>\n",
       "      <td>1.605800</td>\n",
       "      <td>0.191208</td>\n",
       "      <td>3.747003e-15</td>\n",
       "    </tr>\n",
       "    <tr>\n",
       "      <th>wt2</th>\n",
       "      <td>9.222061</td>\n",
       "      <td>-0.402398</td>\n",
       "      <td>-1.481986</td>\n",
       "      <td>-0.838386</td>\n",
       "      <td>-2.194507</td>\n",
       "      <td>-1.345270</td>\n",
       "      <td>-1.143605</td>\n",
       "      <td>1.145987</td>\n",
       "      <td>-0.724901</td>\n",
       "      <td>3.871903e-15</td>\n",
       "    </tr>\n",
       "    <tr>\n",
       "      <th>wt3</th>\n",
       "      <td>9.633582</td>\n",
       "      <td>1.982188</td>\n",
       "      <td>0.366197</td>\n",
       "      <td>2.289501</td>\n",
       "      <td>-0.080311</td>\n",
       "      <td>1.044737</td>\n",
       "      <td>-1.640653</td>\n",
       "      <td>-0.266415</td>\n",
       "      <td>0.868457</td>\n",
       "      <td>7.910339e-15</td>\n",
       "    </tr>\n",
       "    <tr>\n",
       "      <th>wt4</th>\n",
       "      <td>9.128269</td>\n",
       "      <td>-2.691727</td>\n",
       "      <td>3.040696</td>\n",
       "      <td>-0.695481</td>\n",
       "      <td>0.382812</td>\n",
       "      <td>0.710111</td>\n",
       "      <td>-0.192181</td>\n",
       "      <td>-1.275406</td>\n",
       "      <td>-0.777399</td>\n",
       "      <td>-1.776357e-15</td>\n",
       "    </tr>\n",
       "    <tr>\n",
       "      <th>wt5</th>\n",
       "      <td>8.669891</td>\n",
       "      <td>2.862782</td>\n",
       "      <td>-0.405390</td>\n",
       "      <td>-1.508532</td>\n",
       "      <td>0.694683</td>\n",
       "      <td>-1.569769</td>\n",
       "      <td>1.270948</td>\n",
       "      <td>-1.236904</td>\n",
       "      <td>0.455198</td>\n",
       "      <td>3.996803e-15</td>\n",
       "    </tr>\n",
       "    <tr>\n",
       "      <th>ko1</th>\n",
       "      <td>-9.035870</td>\n",
       "      <td>-1.548363</td>\n",
       "      <td>-1.828380</td>\n",
       "      <td>0.267522</td>\n",
       "      <td>2.611688</td>\n",
       "      <td>-1.213365</td>\n",
       "      <td>-1.391845</td>\n",
       "      <td>-0.329230</td>\n",
       "      <td>-0.139449</td>\n",
       "      <td>-1.415534e-15</td>\n",
       "    </tr>\n",
       "    <tr>\n",
       "      <th>ko2</th>\n",
       "      <td>-9.057602</td>\n",
       "      <td>-0.793890</td>\n",
       "      <td>-1.158630</td>\n",
       "      <td>2.281724</td>\n",
       "      <td>-1.790320</td>\n",
       "      <td>-0.251360</td>\n",
       "      <td>1.266676</td>\n",
       "      <td>-1.377760</td>\n",
       "      <td>-0.340615</td>\n",
       "      <td>-2.137179e-15</td>\n",
       "    </tr>\n",
       "    <tr>\n",
       "      <th>ko3</th>\n",
       "      <td>-9.425617</td>\n",
       "      <td>-1.794869</td>\n",
       "      <td>2.011907</td>\n",
       "      <td>-0.857073</td>\n",
       "      <td>-0.967304</td>\n",
       "      <td>-0.739377</td>\n",
       "      <td>0.052034</td>\n",
       "      <td>0.714909</td>\n",
       "      <td>1.505290</td>\n",
       "      <td>-3.330669e-15</td>\n",
       "    </tr>\n",
       "    <tr>\n",
       "      <th>ko4</th>\n",
       "      <td>-9.278027</td>\n",
       "      <td>1.201089</td>\n",
       "      <td>-1.557237</td>\n",
       "      <td>-2.232131</td>\n",
       "      <td>-0.475360</td>\n",
       "      <td>2.519757</td>\n",
       "      <td>-0.351248</td>\n",
       "      <td>-0.338653</td>\n",
       "      <td>-0.085023</td>\n",
       "      <td>-4.440892e-15</td>\n",
       "    </tr>\n",
       "    <tr>\n",
       "      <th>ko5</th>\n",
       "      <td>-9.174457</td>\n",
       "      <td>2.900283</td>\n",
       "      <td>2.489679</td>\n",
       "      <td>0.683942</td>\n",
       "      <td>0.627082</td>\n",
       "      <td>-0.257883</td>\n",
       "      <td>0.358558</td>\n",
       "      <td>1.357671</td>\n",
       "      <td>-0.952766</td>\n",
       "      <td>-5.245804e-15</td>\n",
       "    </tr>\n",
       "  </tbody>\n",
       "</table>\n",
       "</div>"
      ],
      "text/plain": [
       "          PC1       PC2       PC3       PC4       PC5       PC6       PC7  \\\n",
       "wt1  9.317770 -1.715094 -1.476857  0.608915  1.191538  1.102418  1.771316   \n",
       "wt2  9.222061 -0.402398 -1.481986 -0.838386 -2.194507 -1.345270 -1.143605   \n",
       "wt3  9.633582  1.982188  0.366197  2.289501 -0.080311  1.044737 -1.640653   \n",
       "wt4  9.128269 -2.691727  3.040696 -0.695481  0.382812  0.710111 -0.192181   \n",
       "wt5  8.669891  2.862782 -0.405390 -1.508532  0.694683 -1.569769  1.270948   \n",
       "ko1 -9.035870 -1.548363 -1.828380  0.267522  2.611688 -1.213365 -1.391845   \n",
       "ko2 -9.057602 -0.793890 -1.158630  2.281724 -1.790320 -0.251360  1.266676   \n",
       "ko3 -9.425617 -1.794869  2.011907 -0.857073 -0.967304 -0.739377  0.052034   \n",
       "ko4 -9.278027  1.201089 -1.557237 -2.232131 -0.475360  2.519757 -0.351248   \n",
       "ko5 -9.174457  2.900283  2.489679  0.683942  0.627082 -0.257883  0.358558   \n",
       "\n",
       "          PC8       PC9          PC10  \n",
       "wt1  1.605800  0.191208  3.747003e-15  \n",
       "wt2  1.145987 -0.724901  3.871903e-15  \n",
       "wt3 -0.266415  0.868457  7.910339e-15  \n",
       "wt4 -1.275406 -0.777399 -1.776357e-15  \n",
       "wt5 -1.236904  0.455198  3.996803e-15  \n",
       "ko1 -0.329230 -0.139449 -1.415534e-15  \n",
       "ko2 -1.377760 -0.340615 -2.137179e-15  \n",
       "ko3  0.714909  1.505290 -3.330669e-15  \n",
       "ko4 -0.338653 -0.085023 -4.440892e-15  \n",
       "ko5  1.357671 -0.952766 -5.245804e-15  "
      ]
     },
     "execution_count": 14,
     "metadata": {},
     "output_type": "execute_result"
    }
   ],
   "source": [
    "pca_df = pd.DataFrame(pca_data, index=[*wt, *ko], columns=labels)\n",
    "pca_df"
   ]
  },
  {
   "cell_type": "code",
   "execution_count": 15,
   "metadata": {
    "scrolled": false
   },
   "outputs": [
    {
     "data": {
      "image/png": "[encoded data removed]",
      "text/plain": [
       "<Figure size 432x288 with 1 Axes>"
      ]
     },
     "metadata": {
      "needs_background": "light"
     },
     "output_type": "display_data"
    }
   ],
   "source": [
    "plt.scatter(pca_df.PC1, pca_df.PC2)\n",
    "plt.title('My PCA Graph')\n",
    "plt.xlabel('PC1 - {0}%'.format(per_var[0]))\n",
    "plt.ylabel('PC2 - {0}%'.format(per_var[1]))\n",
    "\n",
    "for sample in pca_df.index:\n",
    "    plt.annotate(sample, (pca_df.PC1.loc[sample], pca_df.PC2.loc[sample]))\n",
    "    \n",
    "plt.show()"
   ]
  },
  {
   "cell_type": "code",
   "execution_count": 16,
   "metadata": {},
   "outputs": [],
   "source": [
    "loading_scores = pd.Series(pca.components_[0], index=genes)\n",
    "sorted_loading_scores = loading_scores.abs().sort_values(ascending=False)"
   ]
  },
  {
   "cell_type": "code",
   "execution_count": 17,
   "metadata": {},
   "outputs": [],
   "source": [
    "top_10_genes = sorted_loading_scores[0:10].index.values"
   ]
  },
  {
   "cell_type": "code",
   "execution_count": 18,
   "metadata": {},
   "outputs": [
    {
     "name": "stdout",
     "output_type": "stream",
     "text": [
      "gene27   -0.108706\n",
      "gene10   -0.108642\n",
      "gene57    0.108636\n",
      "gene52   -0.108630\n",
      "gene18   -0.108623\n",
      "gene25    0.108593\n",
      "gene73   -0.108589\n",
      "gene30    0.108588\n",
      "gene95    0.108586\n",
      "gene59    0.108585\n",
      "dtype: float64\n"
     ]
    }
   ],
   "source": [
    "print(loading_scores[top_10_genes])"
   ]
  },
  {
   "cell_type": "code",
   "execution_count": 19,
   "metadata": {},
   "outputs": [
    {
     "data": {
      "text/plain": [
       "gene1      0.105728\n",
       "gene2      0.107567\n",
       "gene3     -0.103485\n",
       "gene4      0.105537\n",
       "gene5      0.098686\n",
       "             ...   \n",
       "gene96     0.108466\n",
       "gene97    -0.108205\n",
       "gene98     0.044121\n",
       "gene99     0.098371\n",
       "gene100    0.107872\n",
       "Length: 100, dtype: float64"
      ]
     },
     "execution_count": 19,
     "metadata": {},
     "output_type": "execute_result"
    }
   ],
   "source": [
    "loading_scores"
   ]
  },
  {
   "cell_type": "code",
   "execution_count": 20,
   "metadata": {},
   "outputs": [
    {
     "data": {
      "text/plain": [
       "(100,)"
      ]
     },
     "execution_count": 20,
     "metadata": {},
     "output_type": "execute_result"
    }
   ],
   "source": [
    "pca.components_[0].shape"
   ]
  }
 ],
 "metadata": {
  "kernelspec": {
   "display_name": "Python 3",
   "language": "python",
   "name": "python3"
  },
  "language_info": {
   "codemirror_mode": {
    "name": "ipython",
    "version": 3
   },
   "file_extension": ".py",
   "mimetype": "text/x-python",
   "name": "python",
   "nbconvert_exporter": "python",
   "pygments_lexer": "ipython3",
   "version": "3.7.6"
  }
 },
 "nbformat": 4,
 "nbformat_minor": 4
}
