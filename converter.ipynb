{
 "cells": [
  {
   "cell_type": "code",
   "execution_count": 1,
   "metadata": {},
   "outputs": [],
   "source": [
    "import numpy as np\n",
    "import pandas as pd"
   ]
  },
  {
   "cell_type": "code",
   "execution_count": 2,
   "metadata": {},
   "outputs": [],
   "source": [
    "# not all 2-digits numbers, because it will be continued\n",
    "\n",
    "series_of_numbers = pd.Series([\"один\",\"два\",\"три\",\"четыре\",\"пять\",\"шесть\",\"семь\",\"восемь\",\"девять\",\"десять\",\"одиннадцать\",\n",
    "                               \"двенадцать\", \"тринадцать\", \"четырнадцать\", \"пятьнадцать\", \"шестнадцать\", \"семнадцать\", \"восемнадцать\",\n",
    "                               \"девятнадцать\", \"двадцать\", \"тридцать\", \"сорок\"])\n",
    "series_of_word_nums = pd.Series([1, 2, 3, 4, 5, 6, 7, 8, 9, 10, 11, 12, 13, 14, 15, 16, 17, 18, 19, 20, 30, 40])"
   ]
  },
  {
   "cell_type": "code",
   "execution_count": 3,
   "metadata": {},
   "outputs": [],
   "source": [
    "table_of_nums = pd.concat([series_of_numbers, series_of_word_nums], axis=1)"
   ]
  },
  {
   "cell_type": "code",
   "execution_count": 4,
   "metadata": {},
   "outputs": [
    {
     "name": "stdout",
     "output_type": "stream",
     "text": [
      "- Надо пройти двадцать семь миль!\n"
     ]
    }
   ],
   "source": [
    "user_input = input()"
   ]
  },
  {
   "cell_type": "code",
   "execution_count": 5,
   "metadata": {},
   "outputs": [],
   "source": [
    "list_of_words = user_input.split()"
   ]
  },
  {
   "cell_type": "code",
   "execution_count": 6,
   "metadata": {},
   "outputs": [
    {
     "data": {
      "text/plain": [
       "27"
      ]
     },
     "execution_count": 6,
     "metadata": {},
     "output_type": "execute_result"
    }
   ],
   "source": [
    "num_miles = [] \n",
    "\n",
    "for word in list_of_words:\n",
    "    if word in list(table_of_nums.iloc[:,0]): \n",
    "        num = int(table_of_nums[table_of_nums.iloc[:,0] == word].iloc[:,1])\n",
    "        num_miles.append(num)\n",
    "    else:\n",
    "        continue\n",
    "        \n",
    "num_miles = np.sum(num_miles) # if number is consist of two parts i.e [20, 5] = 25\n",
    "num_miles"
   ]
  },
  {
   "cell_type": "code",
   "execution_count": 7,
   "metadata": {},
   "outputs": [
    {
     "data": {
      "text/plain": [
       "45"
      ]
     },
     "execution_count": 7,
     "metadata": {},
     "output_type": "execute_result"
    }
   ],
   "source": [
    "num_km = int(round(num_miles*1.67))\n",
    "num_km"
   ]
  },
  {
   "cell_type": "code",
   "execution_count": 8,
   "metadata": {},
   "outputs": [
    {
     "data": {
      "text/plain": [
       "\"['сорок'] ['пять']\""
      ]
     },
     "execution_count": 8,
     "metadata": {},
     "output_type": "execute_result"
    }
   ],
   "source": [
    "# translate new number to word type\n",
    "# for 2-digits numbers [20; 40] it works like twenty + two = twenty two\n",
    "# for 2-digits numbers [10; 19] it works like whole number is in table\n",
    "\n",
    "if num_km > 19 or num_km < 11: \n",
    "    \n",
    "    num_km = str(num_km) # for working with len and [n]\n",
    "\n",
    "    if len(num_km) == 2:\n",
    "    \n",
    "        num1 = num_km[0] + str(0)\n",
    "        t1 = str(table_of_nums[table_of_nums.iloc[:,1] == int(num1)].iloc[:,0].values)\n",
    "    \n",
    "        num2 = num_km[1] \n",
    "        t2 = str(table_of_nums[table_of_nums.iloc[:,1] == int(num2)].iloc[:,0].values)\n",
    "    \n",
    "        num_km_in_words = t1 + \" \" + t2\n",
    "    \n",
    "    elif len(num_km) == 1:\n",
    "        \n",
    "        num1 = num_km[0]\n",
    "        t1 = str(table_of_nums[table_of_nums.iloc[:,1] == int(num1)].iloc[:,0].values)\n",
    "        \n",
    "        num_km_in_words = t1 \n",
    "\n",
    "        \n",
    "elif num_km > 9 and num_km < 20:\n",
    "    \n",
    "    t1 = str(table_of_nums[table_of_nums.iloc[:,1] == num_km].iloc[:,0].values)\n",
    "    \n",
    "    num_km_in_words = t1\n",
    "    \n",
    "num_km_in_words"
   ]
  },
  {
   "cell_type": "code",
   "execution_count": 9,
   "metadata": {},
   "outputs": [
    {
     "data": {
      "text/plain": [
       "'сорок пять'"
      ]
     },
     "execution_count": 9,
     "metadata": {},
     "output_type": "execute_result"
    }
   ],
   "source": [
    "num_km_in_words = \"\".join(c for c in num_km_in_words if c.isalpha() | c.isspace()) # drop all except letters and space\n",
    "num_km_in_words"
   ]
  },
  {
   "cell_type": "code",
   "execution_count": 10,
   "metadata": {},
   "outputs": [
    {
     "data": {
      "text/plain": [
       "'- Надо пройти двадцать семь километров!'"
      ]
     },
     "execution_count": 10,
     "metadata": {},
     "output_type": "execute_result"
    }
   ],
   "source": [
    "user_input = user_input.replace('миль', 'километров')\n",
    "user_input = user_input.replace('мили', 'километра')\n",
    "user_input"
   ]
  },
  {
   "cell_type": "code",
   "execution_count": 11,
   "metadata": {},
   "outputs": [
    {
     "data": {
      "text/plain": [
       "2"
      ]
     },
     "execution_count": 11,
     "metadata": {},
     "output_type": "execute_result"
    }
   ],
   "source": [
    "counter_nums_in_sent = 0 # how many words of number in sentence\n",
    "\n",
    "for word in user_input.split():\n",
    "    if word in list(table_of_nums.iloc[:,0]):\n",
    "        counter_nums_in_sent += 1\n",
    "        \n",
    "counter_nums_in_sent"
   ]
  },
  {
   "cell_type": "code",
   "execution_count": 12,
   "metadata": {},
   "outputs": [
    {
     "data": {
      "text/plain": [
       "'- Надо пройти сорок пять километров!'"
      ]
     },
     "execution_count": 12,
     "metadata": {},
     "output_type": "execute_result"
    }
   ],
   "source": [
    "splitted_num = num_km_in_words.split(' ')\n",
    "counter2 = 0 # splitted_num[counter2] - element in splitted_num\n",
    "\n",
    "for word in user_input.split():\n",
    "    \n",
    "    if word in list(table_of_nums.iloc[:,0]):\n",
    "        \n",
    "        if counter_nums_in_sent == 1 and len(splitted_num) == 1:\n",
    "            user_input = user_input.replace(word, num_km_in_words)\n",
    "            \n",
    "        elif counter_nums_in_sent == 2 and len(splitted_num) == 2:\n",
    "            user_input = user_input.replace(word, splitted_num[counter2])\n",
    "            counter2 += 1 \n",
    "            \n",
    "        elif counter_nums_in_sent == 1 and len(splitted_num) == 2:\n",
    "            user_input = user_input.replace(word, num_km_in_words)\n",
    "            \n",
    "user_input"
   ]
  }
 ],
 "metadata": {
  "kernelspec": {
   "display_name": "Python 3",
   "language": "python",
   "name": "python3"
  },
  "language_info": {
   "codemirror_mode": {
    "name": "ipython",
    "version": 3
   },
   "file_extension": ".py",
   "mimetype": "text/x-python",
   "name": "python",
   "nbconvert_exporter": "python",
   "pygments_lexer": "ipython3",
   "version": "3.7.6"
  }
 },
 "nbformat": 4,
 "nbformat_minor": 4
}
