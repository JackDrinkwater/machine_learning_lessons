{
 "cells": [
  {
   "cell_type": "code",
   "execution_count": 1,
   "metadata": {},
   "outputs": [],
   "source": [
    "import scipy as sc\n",
    "import numpy as np\n",
    "import pandas as pd\n",
    "import re"
   ]
  },
  {
   "cell_type": "code",
   "execution_count": 2,
   "metadata": {},
   "outputs": [],
   "source": [
    "text_cat = open('/Users/Stanislav/Desktop/1 Математика и python/1 Сходство текстов/sentences.txt', 'r')"
   ]
  },
  {
   "cell_type": "code",
   "execution_count": 3,
   "metadata": {},
   "outputs": [],
   "source": [
    "text_cat = text_cat.read().lower()"
   ]
  },
  {
   "cell_type": "code",
   "execution_count": 23,
   "metadata": {},
   "outputs": [],
   "source": [
    "text = text_cat"
   ]
  },
  {
   "cell_type": "code",
   "execution_count": 4,
   "metadata": {},
   "outputs": [],
   "source": [
    "text_words = re.split('[^a-z]', text_cat)"
   ]
  },
  {
   "cell_type": "code",
   "execution_count": 6,
   "metadata": {},
   "outputs": [],
   "source": [
    "text_words = [x for x in text_words if x != ''] "
   ]
  },
  {
   "cell_type": "code",
   "execution_count": 7,
   "metadata": {},
   "outputs": [
    {
     "name": "stdout",
     "output_type": "stream",
     "text": [
      "['in', 'comparison', 'to', 'dogs', 'cats', 'have', 'not', 'undergone', 'major', 'changes', 'during', 'the', 'domestication', 'process', 'as', 'cat', 'simply', 'catenates', 'streams', 'of', 'bytes', 'it', 'can', 'be', 'also', 'used', 'to', 'concatenate', 'binary', 'files', 'where', 'it', 'will', 'just', 'concatenate', 'sequence', 'of', 'bytes', 'a', 'common', 'interactive', 'use', 'of', 'cat', 'for', 'a', 'single', 'file', 'is', 'to', 'output', 'the', 'content', 'of', 'a', 'file', 'to', 'standard', 'output', 'cats', 'can', 'hear', 'sounds', 'too', 'faint', 'or', 'too', 'high', 'in', 'frequency', 'for', 'human', 'ears', 'such', 'as', 'those', 'made', 'by', 'mice', 'and', 'other', 'small', 'animals', 'in', 'one', 'people', 'deliberately', 'tamed', 'cats', 'in', 'a', 'process', 'of', 'artificial', 'selection', 'as', 'they', 'were', 'useful', 'predators', 'of', 'vermin', 'the', 'domesticated', 'cat', 'and', 'its', 'closest', 'wild', 'ancestor', 'are', 'both', 'diploid', 'organisms', 'that', 'possess', 'chromosomes', 'and', 'roughly', 'genes', 'domestic', 'cats', 'are', 'similar', 'in', 'size', 'to', 'the', 'other', 'members', 'of', 'the', 'genus', 'felis', 'typically', 'weighing', 'between', 'and', 'kg', 'and', 'lb', 'however', 'if', 'the', 'output', 'is', 'piped', 'or', 'redirected', 'cat', 'is', 'unnecessary', 'cat', 'with', 'one', 'named', 'file', 'is', 'safer', 'where', 'human', 'error', 'is', 'a', 'concern', 'one', 'wrong', 'use', 'of', 'the', 'default', 'redirection', 'symbol', 'instead', 'of', 'often', 'adjacent', 'on', 'keyboards', 'may', 'permanently', 'delete', 'the', 'file', 'you', 'were', 'just', 'needing', 'to', 'read', 'in', 'terms', 'of', 'legibility', 'a', 'sequence', 'of', 'commands', 'starting', 'with', 'cat', 'and', 'connected', 'by', 'pipes', 'has', 'a', 'clear', 'left', 'to', 'right', 'flow', 'of', 'information', 'cat', 'command', 'is', 'one', 'of', 'the', 'basic', 'commands', 'that', 'you', 'learned', 'when', 'you', 'started', 'in', 'the', 'unix', 'linux', 'world', 'using', 'cat', 'command', 'the', 'lines', 'received', 'from', 'stdin', 'can', 'be', 'redirected', 'to', 'a', 'new', 'file', 'using', 'redirection', 'symbols', 'when', 'you', 'type', 'simply', 'cat', 'command', 'without', 'any', 'arguments', 'it', 'just', 'receives', 'the', 'stdin', 'content', 'and', 'displays', 'it', 'in', 'the', 'stdout', 'leopard', 'was', 'released', 'on', 'october', 'as', 'the', 'successor', 'of', 'tiger', 'version', 'and', 'is', 'available', 'in', 'two', 'editions', 'according', 'to', 'apple', 'leopard', 'contains', 'over', 'changes', 'and', 'enhancements', 'over', 'its', 'predecessor', 'mac', 'os', 'x', 'tiger', 'as', 'of', 'mid', 'some', 'apple', 'computers', 'have', 'firmware', 'factory', 'installed', 'which', 'will', 'no', 'longer', 'allow', 'installation', 'of', 'mac', 'os', 'x', 'leopard', 'since', 'apple', 'moved', 'to', 'using', 'intel', 'processors', 'in', 'their', 'computers', 'the', 'osx', 'community', 'has', 'developed', 'and', 'now', 'also', 'allows', 'mac', 'os', 'x', 'tiger', 'and', 'later', 'releases', 'to', 'be', 'installed', 'on', 'non', 'apple', 'x', 'based', 'computers', 'os', 'x', 'mountain', 'lion', 'was', 'released', 'on', 'july', 'for', 'purchase', 'and', 'download', 'through', 'apple', 's', 'mac', 'app', 'store', 'as', 'part', 'of', 'a', 'switch', 'to', 'releasing', 'os', 'x', 'versions', 'online', 'and', 'every', 'year', 'apple', 'has', 'released', 'a', 'small', 'patch', 'for', 'the', 'three', 'most', 'recent', 'versions', 'of', 'safari', 'running', 'on', 'os', 'x', 'yosemite', 'mavericks', 'and', 'mountain', 'lion', 'the', 'mountain', 'lion', 'release', 'marks', 'the', 'second', 'time', 'apple', 'has', 'offered', 'an', 'incremental', 'upgrade', 'rather', 'than', 'releasing', 'a', 'new', 'cat', 'entirely', 'mac', 'os', 'x', 'mountain', 'lion', 'installs', 'in', 'place', 'so', 'you', 'won', 't', 'need', 'to', 'create', 'a', 'separate', 'disk', 'or', 'run', 'the', 'installation', 'off', 'an', 'external', 'drive', 'the', 'fifth', 'major', 'update', 'to', 'mac', 'os', 'x', 'leopard', 'contains', 'such', 'a', 'mountain', 'of', 'features', 'more', 'than', 'by', 'apple', 's', 'count']\n"
     ]
    }
   ],
   "source": [
    "print(text_words)"
   ]
  },
  {
   "cell_type": "code",
   "execution_count": 31,
   "metadata": {},
   "outputs": [],
   "source": [
    "#text_1 = re.findall(r'\\w+', text_cat) - split with no need to drop 'spaces'"
   ]
  },
  {
   "cell_type": "code",
   "execution_count": 8,
   "metadata": {},
   "outputs": [],
   "source": [
    "text_list = []"
   ]
  },
  {
   "cell_type": "code",
   "execution_count": 11,
   "metadata": {},
   "outputs": [],
   "source": [
    "for word in text_words:\n",
    "    if word not in text_list:\n",
    "        text_list.append(word)\n",
    "    else:\n",
    "        pass"
   ]
  },
  {
   "cell_type": "code",
   "execution_count": null,
   "metadata": {},
   "outputs": [],
   "source": []
  },
  {
   "cell_type": "code",
   "execution_count": 12,
   "metadata": {},
   "outputs": [],
   "source": [
    "text_list.sort()"
   ]
  },
  {
   "cell_type": "code",
   "execution_count": 13,
   "metadata": {},
   "outputs": [
    {
     "name": "stdout",
     "output_type": "stream",
     "text": [
      "['a', 'according', 'adjacent', 'allow', 'allows', 'also', 'an', 'ancestor', 'and', 'animals', 'any', 'app', 'apple', 'are', 'arguments', 'artificial', 'as', 'available', 'based', 'basic', 'be', 'between', 'binary', 'both', 'by', 'bytes', 'can', 'cat', 'catenates', 'cats', 'changes', 'chromosomes', 'clear', 'closest', 'command', 'commands', 'common', 'community', 'comparison', 'computers', 'concatenate', 'concern', 'connected', 'contains', 'content', 'count', 'create', 'default', 'delete', 'deliberately', 'developed', 'diploid', 'disk', 'displays', 'dogs', 'domestic', 'domesticated', 'domestication', 'download', 'drive', 'during', 'ears', 'editions', 'enhancements', 'entirely', 'error', 'every', 'external', 'factory', 'faint', 'features', 'felis', 'fifth', 'file', 'files', 'firmware', 'flow', 'for', 'frequency', 'from', 'genes', 'genus', 'has', 'have', 'hear', 'high', 'however', 'human', 'if', 'in', 'incremental', 'information', 'installation', 'installed', 'installs', 'instead', 'intel', 'interactive', 'is', 'it', 'its', 'july', 'just', 'keyboards', 'kg', 'later', 'lb', 'learned', 'left', 'legibility', 'leopard', 'lines', 'linux', 'lion', 'longer', 'mac', 'made', 'major', 'marks', 'mavericks', 'may', 'members', 'mice', 'mid', 'more', 'most', 'mountain', 'moved', 'named', 'need', 'needing', 'new', 'no', 'non', 'not', 'now', 'october', 'of', 'off', 'offered', 'often', 'on', 'one', 'online', 'or', 'organisms', 'os', 'osx', 'other', 'output', 'over', 'part', 'patch', 'people', 'permanently', 'piped', 'pipes', 'place', 'possess', 'predators', 'predecessor', 'process', 'processors', 'purchase', 'rather', 'read', 'received', 'receives', 'recent', 'redirected', 'redirection', 'release', 'released', 'releases', 'releasing', 'right', 'roughly', 'run', 'running', 's', 'safari', 'safer', 'second', 'selection', 'separate', 'sequence', 'similar', 'simply', 'since', 'single', 'size', 'small', 'so', 'some', 'sounds', 'standard', 'started', 'starting', 'stdin', 'stdout', 'store', 'streams', 'successor', 'such', 'switch', 'symbol', 'symbols', 't', 'tamed', 'terms', 'than', 'that', 'the', 'their', 'they', 'those', 'three', 'through', 'tiger', 'time', 'to', 'too', 'two', 'type', 'typically', 'undergone', 'unix', 'unnecessary', 'update', 'upgrade', 'use', 'used', 'useful', 'using', 'vermin', 'version', 'versions', 'was', 'weighing', 'were', 'when', 'where', 'which', 'wild', 'will', 'with', 'without', 'won', 'world', 'wrong', 'x', 'year', 'yosemite', 'you']\n"
     ]
    }
   ],
   "source": [
    "print(text_list)"
   ]
  },
  {
   "cell_type": "code",
   "execution_count": 14,
   "metadata": {},
   "outputs": [],
   "source": [
    "dict_x = dict(enumerate(text_list))"
   ]
  },
  {
   "cell_type": "code",
   "execution_count": 15,
   "metadata": {},
   "outputs": [
    {
     "name": "stdout",
     "output_type": "stream",
     "text": [
      "{0: 'a', 1: 'according', 2: 'adjacent', 3: 'allow', 4: 'allows', 5: 'also', 6: 'an', 7: 'ancestor', 8: 'and', 9: 'animals', 10: 'any', 11: 'app', 12: 'apple', 13: 'are', 14: 'arguments', 15: 'artificial', 16: 'as', 17: 'available', 18: 'based', 19: 'basic', 20: 'be', 21: 'between', 22: 'binary', 23: 'both', 24: 'by', 25: 'bytes', 26: 'can', 27: 'cat', 28: 'catenates', 29: 'cats', 30: 'changes', 31: 'chromosomes', 32: 'clear', 33: 'closest', 34: 'command', 35: 'commands', 36: 'common', 37: 'community', 38: 'comparison', 39: 'computers', 40: 'concatenate', 41: 'concern', 42: 'connected', 43: 'contains', 44: 'content', 45: 'count', 46: 'create', 47: 'default', 48: 'delete', 49: 'deliberately', 50: 'developed', 51: 'diploid', 52: 'disk', 53: 'displays', 54: 'dogs', 55: 'domestic', 56: 'domesticated', 57: 'domestication', 58: 'download', 59: 'drive', 60: 'during', 61: 'ears', 62: 'editions', 63: 'enhancements', 64: 'entirely', 65: 'error', 66: 'every', 67: 'external', 68: 'factory', 69: 'faint', 70: 'features', 71: 'felis', 72: 'fifth', 73: 'file', 74: 'files', 75: 'firmware', 76: 'flow', 77: 'for', 78: 'frequency', 79: 'from', 80: 'genes', 81: 'genus', 82: 'has', 83: 'have', 84: 'hear', 85: 'high', 86: 'however', 87: 'human', 88: 'if', 89: 'in', 90: 'incremental', 91: 'information', 92: 'installation', 93: 'installed', 94: 'installs', 95: 'instead', 96: 'intel', 97: 'interactive', 98: 'is', 99: 'it', 100: 'its', 101: 'july', 102: 'just', 103: 'keyboards', 104: 'kg', 105: 'later', 106: 'lb', 107: 'learned', 108: 'left', 109: 'legibility', 110: 'leopard', 111: 'lines', 112: 'linux', 113: 'lion', 114: 'longer', 115: 'mac', 116: 'made', 117: 'major', 118: 'marks', 119: 'mavericks', 120: 'may', 121: 'members', 122: 'mice', 123: 'mid', 124: 'more', 125: 'most', 126: 'mountain', 127: 'moved', 128: 'named', 129: 'need', 130: 'needing', 131: 'new', 132: 'no', 133: 'non', 134: 'not', 135: 'now', 136: 'october', 137: 'of', 138: 'off', 139: 'offered', 140: 'often', 141: 'on', 142: 'one', 143: 'online', 144: 'or', 145: 'organisms', 146: 'os', 147: 'osx', 148: 'other', 149: 'output', 150: 'over', 151: 'part', 152: 'patch', 153: 'people', 154: 'permanently', 155: 'piped', 156: 'pipes', 157: 'place', 158: 'possess', 159: 'predators', 160: 'predecessor', 161: 'process', 162: 'processors', 163: 'purchase', 164: 'rather', 165: 'read', 166: 'received', 167: 'receives', 168: 'recent', 169: 'redirected', 170: 'redirection', 171: 'release', 172: 'released', 173: 'releases', 174: 'releasing', 175: 'right', 176: 'roughly', 177: 'run', 178: 'running', 179: 's', 180: 'safari', 181: 'safer', 182: 'second', 183: 'selection', 184: 'separate', 185: 'sequence', 186: 'similar', 187: 'simply', 188: 'since', 189: 'single', 190: 'size', 191: 'small', 192: 'so', 193: 'some', 194: 'sounds', 195: 'standard', 196: 'started', 197: 'starting', 198: 'stdin', 199: 'stdout', 200: 'store', 201: 'streams', 202: 'successor', 203: 'such', 204: 'switch', 205: 'symbol', 206: 'symbols', 207: 't', 208: 'tamed', 209: 'terms', 210: 'than', 211: 'that', 212: 'the', 213: 'their', 214: 'they', 215: 'those', 216: 'three', 217: 'through', 218: 'tiger', 219: 'time', 220: 'to', 221: 'too', 222: 'two', 223: 'type', 224: 'typically', 225: 'undergone', 226: 'unix', 227: 'unnecessary', 228: 'update', 229: 'upgrade', 230: 'use', 231: 'used', 232: 'useful', 233: 'using', 234: 'vermin', 235: 'version', 236: 'versions', 237: 'was', 238: 'weighing', 239: 'were', 240: 'when', 241: 'where', 242: 'which', 243: 'wild', 244: 'will', 245: 'with', 246: 'without', 247: 'won', 248: 'world', 249: 'wrong', 250: 'x', 251: 'year', 252: 'yosemite', 253: 'you'}\n"
     ]
    }
   ],
   "source": [
    "print(dict_x)"
   ]
  },
  {
   "cell_type": "code",
   "execution_count": null,
   "metadata": {},
   "outputs": [],
   "source": []
  },
  {
   "cell_type": "code",
   "execution_count": null,
   "metadata": {},
   "outputs": [],
   "source": []
  },
  {
   "cell_type": "code",
   "execution_count": null,
   "metadata": {},
   "outputs": [],
   "source": []
  }
 ],
 "metadata": {
  "kernelspec": {
   "display_name": "Python 3",
   "language": "python",
   "name": "python3"
  },
  "language_info": {
   "codemirror_mode": {
    "name": "ipython",
    "version": 3
   },
   "file_extension": ".py",
   "mimetype": "text/x-python",
   "name": "python",
   "nbconvert_exporter": "python",
   "pygments_lexer": "ipython3",
   "version": "3.7.4"
  }
 },
 "nbformat": 4,
 "nbformat_minor": 2
}
